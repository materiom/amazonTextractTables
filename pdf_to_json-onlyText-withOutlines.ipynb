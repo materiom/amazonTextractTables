{
 "cells": [
  {
   "cell_type": "markdown",
   "id": "e21962e7",
   "metadata": {},
   "source": [
    "# Scientific literature extract to_XML process"
   ]
  },
  {
   "cell_type": "code",
   "execution_count": 38,
   "id": "82446641",
   "metadata": {},
   "outputs": [],
   "source": [
    "from pdfminer3.pdfinterp import PDFResourceManager, PDFPageInterpreter\n",
    "from pdfminer3.converter import TextConverter\n",
    "from pdfminer3.layout import LAParams, LTTextContainer, LTTextContainer, LTTextLine, LTTextBox\n",
    "from pdfminer3.pdfpage import PDFPage\n",
    "from pdfminer3.pdfparser import PDFParser\n",
    "from pdfminer3.pdfdocument import PDFDocument\n",
    "#from pdfminer3.high_level import extract_pages\n",
    "from pdfminer3.pdfdocument import PDFNoOutlines\n",
    "from io import StringIO\n",
    "import nltk\n",
    "from nltk import ngrams\n",
    "#nltk.download('punkt')"
   ]
  },
  {
   "cell_type": "code",
   "execution_count": 39,
   "id": "edbb9cee",
   "metadata": {},
   "outputs": [],
   "source": [
    "import os\n",
    "from glob import glob"
   ]
  },
  {
   "cell_type": "code",
   "execution_count": 40,
   "id": "617601bf",
   "metadata": {},
   "outputs": [],
   "source": [
    "import pandas as pd\n",
    "import numpy as np\n",
    "import matplotlib.pyplot as plt"
   ]
  },
  {
   "cell_type": "markdown",
   "id": "e31d6caf",
   "metadata": {},
   "source": [
    "## PDFminer"
   ]
  },
  {
   "cell_type": "code",
   "execution_count": 41,
   "id": "11004470",
   "metadata": {},
   "outputs": [],
   "source": [
    "def extract_pdf(path):\n",
    "    rsrcmgr = PDFResourceManager()\n",
    "    retstr = StringIO()\n",
    "    codec = 'utf-8'\n",
    "    laparams = LAParams()\n",
    "    device = TextConverter(rsrcmgr, retstr, codec=codec, laparams=laparams)\n",
    "    fp = open(path, 'rb')\n",
    "    metadata=PDFDocument(PDFParser(fp)).info\n",
    "    interpreter = PDFPageInterpreter(rsrcmgr, device)\n",
    "    password = \"\"\n",
    "    maxpages = 0\n",
    "    caching = True\n",
    "    pagenos=set()\n",
    "    for page in PDFPage.get_pages(fp, pagenos, maxpages=maxpages, password=password,caching=caching, check_extractable=True):\n",
    "        interpreter.process_page(page)\n",
    "    text = retstr.getvalue()\n",
    "    lines = text.splitlines()\n",
    "    fp.close()\n",
    "    device.close()\n",
    "    retstr.close()\n",
    "    return text, lines, metadata\n",
    "\n",
    "def findTitles(titlekeys, lines):\n",
    "    i = -1\n",
    "    titles = []\n",
    "    for sentence in lines:\n",
    "        i += 1\n",
    "        if sentence == '' or sentence == ' ':\n",
    "            continue\n",
    "        else:\n",
    "            sent_token = nltk.word_tokenize(sentence)\n",
    "            if any('Abstract' in token for token in sent_token):\n",
    "                titles.append([('Abstract',i)])\n",
    "            if len(sent_token)<7:\n",
    "                titles.append([(key,i) for key in titlekeys for token in sent_token if key == token])\n",
    "    titles = list(filter(None, titles))\n",
    "    return titles"
   ]
  },
  {
   "cell_type": "code",
   "execution_count": 42,
   "id": "6ba3d0fc",
   "metadata": {},
   "outputs": [],
   "source": [
    "#titles.append([(key, n, sent_token.index(key), len(sent_token)) for key in titlekeys for tokens in Ptitle for token in tokens if key == token])"
   ]
  },
  {
   "cell_type": "markdown",
   "id": "a480e680",
   "metadata": {},
   "source": [
    "### Extract text"
   ]
  },
  {
   "cell_type": "code",
   "execution_count": 43,
   "id": "3daa30e4",
   "metadata": {
    "tags": [
     "parameters"
    ]
   },
   "outputs": [],
   "source": [
    "###CHANGE VARIABLE\n",
    "file = 'input_pdf_here/A new class of bio-composite materials of unique collagen fibers.pdf'"
   ]
  },
  {
   "cell_type": "code",
   "execution_count": 44,
   "id": "3c6d7ba1",
   "metadata": {},
   "outputs": [
    {
     "data": {
      "text/plain": [
       "'input_pdf_here/A new class of bio-composite materials of unique collagen fibers.pdf'"
      ]
     },
     "execution_count": 44,
     "metadata": {},
     "output_type": "execute_result"
    }
   ],
   "source": [
    "file_aux = file\n",
    "file_aux"
   ]
  },
  {
   "cell_type": "markdown",
   "id": "9c7aab46",
   "metadata": {},
   "source": [
    "#### Extract"
   ]
  },
  {
   "cell_type": "code",
   "execution_count": 45,
   "id": "4fe11182",
   "metadata": {},
   "outputs": [],
   "source": [
    "pdf, lines, metadata=extract_pdf(file_aux)"
   ]
  },
  {
   "cell_type": "markdown",
   "id": "68baef9a",
   "metadata": {},
   "source": [
    "### Metadata"
   ]
  },
  {
   "cell_type": "code",
   "execution_count": 46,
   "id": "afe4f4fd",
   "metadata": {},
   "outputs": [
    {
     "data": {
      "text/plain": [
       "{'CrossMarkDomains[2]': 'sciencedirect.com',\n",
       " 'CreationDate': \"D:20140503133037+05'30'\",\n",
       " 'CrossmarkMajorVersionDate': '2010-04-23',\n",
       " 'Subject': 'Journal of the Mechanical Behavior of Biomedical Materials, 36 + (2014) 71-81. doi:10.1016/j.jmbbm.2014.04.008',\n",
       " 'Author': 'Mirit Sharabi',\n",
       " 'Creator': 'Elsevier',\n",
       " 'Keywords': 'Collagen; Bio-composite; Soft tissue; Mechanical behavior; Hyperelastic',\n",
       " 'ElsevierWebPDFSpecifications': '6.4',\n",
       " 'CrossmarkDomainExclusive': 'true',\n",
       " 'robots': 'noindex',\n",
       " 'ModDate': \"D:20140503133037+05'30'\",\n",
       " 'doi': '10.1016/j.jmbbm.2014.04.008',\n",
       " 'CrossMarkDomains[1]': 'elsevier.com',\n",
       " 'Title': 'A new class of bio-composite materials of unique collagen fibers'}"
      ]
     },
     "execution_count": 46,
     "metadata": {},
     "output_type": "execute_result"
    }
   ],
   "source": [
    "Gmetadata = {}\n",
    "for key in metadata[0]:\n",
    "    try:\n",
    "        text = metadata[0][key].decode(errors='replace')\n",
    "        Gmetadata.update({key:text})\n",
    "    except AttributeError:\n",
    "        text = metadata[0][key]\n",
    "        Gmetadata.update({key:text})\n",
    "Gmetadata"
   ]
  },
  {
   "cell_type": "markdown",
   "id": "bda5b41a",
   "metadata": {},
   "source": [
    "### Extract Titles"
   ]
  },
  {
   "cell_type": "markdown",
   "id": "7abc27ec",
   "metadata": {},
   "source": [
    "#### Extract outlines (table_of_content)"
   ]
  },
  {
   "cell_type": "code",
   "execution_count": 47,
   "id": "5a30dd3b",
   "metadata": {},
   "outputs": [],
   "source": [
    "fp = open(file_aux, 'rb')\n",
    "parser = PDFParser(fp)\n",
    "document = PDFDocument(parser)\n",
    "\n",
    "# Get the outlines of the document:\n",
    "try:\n",
    "    outlines = document.get_outlines()\n",
    "    outl = []\n",
    "    for level in outlines:\n",
    "        outl.append(level)\n",
    "    outl\n",
    "except PDFNoOutlines:\n",
    "    outl = ''\n",
    "    pass"
   ]
  },
  {
   "cell_type": "code",
   "execution_count": 48,
   "id": "9daf91cf",
   "metadata": {},
   "outputs": [],
   "source": [
    "title_outl = []\n",
    "for m in range(len(outl)):\n",
    "    title_outl.append(outl[m][1])"
   ]
  },
  {
   "cell_type": "markdown",
   "id": "d9e0908f",
   "metadata": {},
   "source": [
    "#### Bag of word"
   ]
  },
  {
   "cell_type": "code",
   "execution_count": 50,
   "id": "e411ae0a",
   "metadata": {},
   "outputs": [],
   "source": [
    "keywords = ['Introduction', 'INTRODUCTION',\n",
    "            'Methods', 'methods', 'METHODS',\n",
    "            'Experimental', 'experimental', 'EXPERIMENTAL', 'Develop', 'develop', 'DEVELOP',\n",
    "            'Result', 'result', 'RESULT', 'Results', 'results', 'RESULTS',\n",
    "            'Discussion', 'discussion', 'DISCUSSION',\n",
    "            'Conclusion','conclusion','CONCLUSION', \n",
    "            'Supplementary Materials', 'Author Contributions',\n",
    "            'Abbreviations', 'abbrevations', 'ABBREVIATIONS', 'List of abbreviations', 'List of Abbreviations', \n",
    "            'Conflicts of interest', 'Conflicts of Interest', 'conflicts of interest', 'Conflicts Of Interest', 'CONFLICTS OF INTEREST', \n",
    "            'Acknowledgements', 'acknowledgements', \n",
    "            'References', 'REFERENCES', 'Notes and references', 'Notes and References']"
   ]
  },
  {
   "cell_type": "markdown",
   "id": "89b29d9d",
   "metadata": {},
   "source": [
    "#### Find"
   ]
  },
  {
   "cell_type": "code",
   "execution_count": 51,
   "id": "edb7d4e2",
   "metadata": {},
   "outputs": [],
   "source": [
    "if len(title_outl)>5:\n",
    "    titles = findTitles(title_outl, lines)\n",
    "else:\n",
    "    titles = findTitles(keywords, lines)"
   ]
  },
  {
   "cell_type": "code",
   "execution_count": 52,
   "id": "50dd5869",
   "metadata": {
    "scrolled": true
   },
   "outputs": [
    {
     "data": {
      "text/plain": [
       "[[('Introduction', 53)],\n",
       " [('Results', 436)],\n",
       " [('Discussion', 649)],\n",
       " [('Limitations', 887)],\n",
       " [('Conclusions', 913)]]"
      ]
     },
     "execution_count": 52,
     "metadata": {},
     "output_type": "execute_result"
    }
   ],
   "source": [
    "titles"
   ]
  },
  {
   "cell_type": "code",
   "execution_count": 53,
   "id": "f75d9abc",
   "metadata": {},
   "outputs": [
    {
     "data": {
      "text/plain": [
       "'Accepted 10 April 2014'"
      ]
     },
     "execution_count": 53,
     "metadata": {},
     "output_type": "execute_result"
    }
   ],
   "source": [
    "lines[26]"
   ]
  },
  {
   "cell_type": "code",
   "execution_count": 54,
   "id": "23c09de4",
   "metadata": {},
   "outputs": [],
   "source": [
    "### normalize\n",
    "title = []\n",
    "for i in range(len(titles)):\n",
    "    title.append(titles[i][0][0])\n",
    "NLtitle = []\n",
    "for j in range(len(titles)):\n",
    "    NLtitle.append(titles[j][0][1])"
   ]
  },
  {
   "cell_type": "markdown",
   "id": "3c326212",
   "metadata": {},
   "source": [
    "# to_JSON"
   ]
  },
  {
   "cell_type": "code",
   "execution_count": 55,
   "id": "a6768ae3",
   "metadata": {},
   "outputs": [],
   "source": [
    "import io\n",
    "import os\n",
    "import json"
   ]
  },
  {
   "cell_type": "code",
   "execution_count": 56,
   "id": "ad4b423f",
   "metadata": {},
   "outputs": [],
   "source": [
    "def set_default(obj):\n",
    "    if isinstance(obj, set):\n",
    "        return list(obj)\n",
    "    raise TypeError"
   ]
  },
  {
   "cell_type": "code",
   "execution_count": 57,
   "id": "cffa9408",
   "metadata": {},
   "outputs": [],
   "source": [
    "def dumper(obj):\n",
    "    try:\n",
    "        return obj.toJSON()\n",
    "    except:\n",
    "        return obj.__dict__"
   ]
  },
  {
   "cell_type": "code",
   "execution_count": 58,
   "id": "e16d58cb",
   "metadata": {},
   "outputs": [],
   "source": [
    "def export_as_json(filename, json_path):\n",
    "    data_json = {'filename' : filename}\n",
    "    data_json['Metadata'] = Gmetadata\n",
    "    data_json['Outlines'] = str(outl)\n",
    "    data_json['Content'] = {}\n",
    "    data_json['Tables'] = {}\n",
    "    \n",
    "    ##EXTRACT-TEXT\n",
    "    if title[0]=='Abstract':\n",
    "        text = ''.join(lines[NLtitle[0]:NLtitle[1]-1])\n",
    "        data_json['Content'].update({'Abstract':text})\n",
    "        valid_abs = True\n",
    "    i=2\n",
    "    #if valid_abs == True:\n",
    "    for l in NLtitle[1:]:\n",
    "        if l == NLtitle[-1]:\n",
    "            text = ''.join(lines[l+1:])\n",
    "            data_json['Content'].update({lines[l]:text}) \n",
    "            i=i+1\n",
    "        else:\n",
    "            text = ''.join(lines[l+1:NLtitle[i]-1])\n",
    "            data_json['Content'].update({lines[l]:text}) \n",
    "            i=i+1\n",
    "    \n",
    "    with open(json_path, 'w') as fh:\n",
    "        json.dump(data_json, fh, indent=4, default=dumper)\n",
    "    return print(filename + '\\n'+ '\\n'+ 'TRANSFORMATION COMPLETED!')"
   ]
  },
  {
   "cell_type": "code",
   "execution_count": 59,
   "id": "dc4d9512",
   "metadata": {},
   "outputs": [
    {
     "name": "stdout",
     "output_type": "stream",
     "text": [
      "A new class of bio-composite materials of unique collagen fibers\n",
      "\n",
      "TRANSFORMATION COMPLETED!\n"
     ]
    }
   ],
   "source": [
    "pdf_path = os.path.splitext(os.path.basename(file_aux))[0]\n",
    "json_path = 'output_is_here//'+pdf_path+'.json'\n",
    "export_as_json(pdf_path, json_path)"
   ]
  },
  {
   "cell_type": "code",
   "execution_count": null,
   "id": "0776f58b",
   "metadata": {},
   "outputs": [],
   "source": []
  },
  {
   "cell_type": "code",
   "execution_count": null,
   "id": "f1279dec",
   "metadata": {},
   "outputs": [],
   "source": []
  }
 ],
 "metadata": {
  "celltoolbar": "Tags",
  "kernelspec": {
   "display_name": "Python 3 (ipykernel)",
   "language": "python",
   "name": "python3"
  },
  "language_info": {
   "codemirror_mode": {
    "name": "ipython",
    "version": 3
   },
   "file_extension": ".py",
   "mimetype": "text/x-python",
   "name": "python",
   "nbconvert_exporter": "python",
   "pygments_lexer": "ipython3",
   "version": "3.8.11"
  }
 },
 "nbformat": 4,
 "nbformat_minor": 5
}
